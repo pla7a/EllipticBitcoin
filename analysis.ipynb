{
 "cells": [
  {
   "cell_type": "code",
   "execution_count": 1,
   "id": "ideal-service",
   "metadata": {},
   "outputs": [],
   "source": [
    "import pandas as pd\n",
    "import numpy as np\n",
    "import matplotlib.pyplot as plt\n",
    "from sklearn.decomposition import PCA\n",
    "from sklearn.model_selection import train_test_split"
   ]
  },
  {
   "cell_type": "markdown",
   "id": "delayed-deviation",
   "metadata": {},
   "source": [
    "# Loading and Understanding the Data"
   ]
  },
  {
   "cell_type": "code",
   "execution_count": 2,
   "id": "mobile-probability",
   "metadata": {},
   "outputs": [],
   "source": [
    "df_classes = pd.read_csv('elliptic_bitcoin_dataset/elliptic_txs_classes.csv')\n",
    "df_classes['class'] = df_classes['class'].replace('unknown', -1)\n",
    "df_classes['class'] = pd.to_numeric(df_classes['class'])"
   ]
  },
  {
   "cell_type": "code",
   "execution_count": 3,
   "id": "common-speech",
   "metadata": {},
   "outputs": [],
   "source": [
    "df_edges = pd.read_csv('elliptic_bitcoin_dataset/elliptic_txs_edgelist.csv')\n"
   ]
  },
  {
   "cell_type": "code",
   "execution_count": 4,
   "id": "objective-seeker",
   "metadata": {
    "tags": []
   },
   "outputs": [],
   "source": [
    "df_features = pd.read_csv('elliptic_bitcoin_dataset/elliptic_txs_features.csv', header=None)"
   ]
  },
  {
   "cell_type": "code",
   "execution_count": 5,
   "id": "simplified-mailing",
   "metadata": {},
   "outputs": [
    {
     "data": {
      "text/html": [
       "<div>\n",
       "<style scoped>\n",
       "    .dataframe tbody tr th:only-of-type {\n",
       "        vertical-align: middle;\n",
       "    }\n",
       "\n",
       "    .dataframe tbody tr th {\n",
       "        vertical-align: top;\n",
       "    }\n",
       "\n",
       "    .dataframe thead th {\n",
       "        text-align: right;\n",
       "    }\n",
       "</style>\n",
       "<table border=\"1\" class=\"dataframe\">\n",
       "  <thead>\n",
       "    <tr style=\"text-align: right;\">\n",
       "      <th></th>\n",
       "      <th>txId1</th>\n",
       "      <th>txId2</th>\n",
       "    </tr>\n",
       "  </thead>\n",
       "  <tbody>\n",
       "    <tr>\n",
       "      <th>0</th>\n",
       "      <td>230425980</td>\n",
       "      <td>5530458</td>\n",
       "    </tr>\n",
       "    <tr>\n",
       "      <th>1</th>\n",
       "      <td>232022460</td>\n",
       "      <td>232438397</td>\n",
       "    </tr>\n",
       "    <tr>\n",
       "      <th>2</th>\n",
       "      <td>230460314</td>\n",
       "      <td>230459870</td>\n",
       "    </tr>\n",
       "    <tr>\n",
       "      <th>3</th>\n",
       "      <td>230333930</td>\n",
       "      <td>230595899</td>\n",
       "    </tr>\n",
       "    <tr>\n",
       "      <th>4</th>\n",
       "      <td>232013274</td>\n",
       "      <td>232029206</td>\n",
       "    </tr>\n",
       "  </tbody>\n",
       "</table>\n",
       "</div>"
      ],
      "text/plain": [
       "       txId1      txId2\n",
       "0  230425980    5530458\n",
       "1  232022460  232438397\n",
       "2  230460314  230459870\n",
       "3  230333930  230595899\n",
       "4  232013274  232029206"
      ]
     },
     "execution_count": 5,
     "metadata": {},
     "output_type": "execute_result"
    }
   ],
   "source": [
    "df_edges.head()"
   ]
  },
  {
   "cell_type": "code",
   "execution_count": 6,
   "id": "ultimate-mozambique",
   "metadata": {},
   "outputs": [
    {
     "data": {
      "text/html": [
       "<div>\n",
       "<style scoped>\n",
       "    .dataframe tbody tr th:only-of-type {\n",
       "        vertical-align: middle;\n",
       "    }\n",
       "\n",
       "    .dataframe tbody tr th {\n",
       "        vertical-align: top;\n",
       "    }\n",
       "\n",
       "    .dataframe thead th {\n",
       "        text-align: right;\n",
       "    }\n",
       "</style>\n",
       "<table border=\"1\" class=\"dataframe\">\n",
       "  <thead>\n",
       "    <tr style=\"text-align: right;\">\n",
       "      <th></th>\n",
       "      <th>txId</th>\n",
       "      <th>class</th>\n",
       "    </tr>\n",
       "  </thead>\n",
       "  <tbody>\n",
       "    <tr>\n",
       "      <th>0</th>\n",
       "      <td>230425980</td>\n",
       "      <td>-1</td>\n",
       "    </tr>\n",
       "    <tr>\n",
       "      <th>1</th>\n",
       "      <td>5530458</td>\n",
       "      <td>-1</td>\n",
       "    </tr>\n",
       "    <tr>\n",
       "      <th>2</th>\n",
       "      <td>232022460</td>\n",
       "      <td>-1</td>\n",
       "    </tr>\n",
       "    <tr>\n",
       "      <th>3</th>\n",
       "      <td>232438397</td>\n",
       "      <td>2</td>\n",
       "    </tr>\n",
       "    <tr>\n",
       "      <th>4</th>\n",
       "      <td>230460314</td>\n",
       "      <td>-1</td>\n",
       "    </tr>\n",
       "  </tbody>\n",
       "</table>\n",
       "</div>"
      ],
      "text/plain": [
       "        txId  class\n",
       "0  230425980     -1\n",
       "1    5530458     -1\n",
       "2  232022460     -1\n",
       "3  232438397      2\n",
       "4  230460314     -1"
      ]
     },
     "execution_count": 6,
     "metadata": {},
     "output_type": "execute_result"
    }
   ],
   "source": [
    "df_classes.head()"
   ]
  },
  {
   "cell_type": "code",
   "execution_count": 7,
   "id": "magnetic-alias",
   "metadata": {},
   "outputs": [],
   "source": [
    "# Merge classes and features\n",
    "df_merge = pd.merge(df_classes, df_features, left_on='txId', right_on=0)"
   ]
  },
  {
   "cell_type": "code",
   "execution_count": 8,
   "id": "pressed-premium",
   "metadata": {},
   "outputs": [
    {
     "data": {
      "text/html": [
       "<div>\n",
       "<style scoped>\n",
       "    .dataframe tbody tr th:only-of-type {\n",
       "        vertical-align: middle;\n",
       "    }\n",
       "\n",
       "    .dataframe tbody tr th {\n",
       "        vertical-align: top;\n",
       "    }\n",
       "\n",
       "    .dataframe thead th {\n",
       "        text-align: right;\n",
       "    }\n",
       "</style>\n",
       "<table border=\"1\" class=\"dataframe\">\n",
       "  <thead>\n",
       "    <tr style=\"text-align: right;\">\n",
       "      <th></th>\n",
       "      <th>txId</th>\n",
       "      <th>class</th>\n",
       "      <th>0</th>\n",
       "      <th>1</th>\n",
       "      <th>2</th>\n",
       "      <th>3</th>\n",
       "      <th>4</th>\n",
       "      <th>5</th>\n",
       "      <th>6</th>\n",
       "      <th>7</th>\n",
       "      <th>...</th>\n",
       "      <th>157</th>\n",
       "      <th>158</th>\n",
       "      <th>159</th>\n",
       "      <th>160</th>\n",
       "      <th>161</th>\n",
       "      <th>162</th>\n",
       "      <th>163</th>\n",
       "      <th>164</th>\n",
       "      <th>165</th>\n",
       "      <th>166</th>\n",
       "    </tr>\n",
       "  </thead>\n",
       "  <tbody>\n",
       "    <tr>\n",
       "      <th>0</th>\n",
       "      <td>230425980</td>\n",
       "      <td>-1</td>\n",
       "      <td>230425980</td>\n",
       "      <td>1</td>\n",
       "      <td>-0.171469</td>\n",
       "      <td>-0.184668</td>\n",
       "      <td>-1.201369</td>\n",
       "      <td>-0.121970</td>\n",
       "      <td>-0.043875</td>\n",
       "      <td>-0.113002</td>\n",
       "      <td>...</td>\n",
       "      <td>-0.562153</td>\n",
       "      <td>-0.600999</td>\n",
       "      <td>1.461330</td>\n",
       "      <td>1.461369</td>\n",
       "      <td>0.018279</td>\n",
       "      <td>-0.087490</td>\n",
       "      <td>-0.131155</td>\n",
       "      <td>-0.097524</td>\n",
       "      <td>-0.120613</td>\n",
       "      <td>-0.119792</td>\n",
       "    </tr>\n",
       "    <tr>\n",
       "      <th>1</th>\n",
       "      <td>5530458</td>\n",
       "      <td>-1</td>\n",
       "      <td>5530458</td>\n",
       "      <td>1</td>\n",
       "      <td>-0.171484</td>\n",
       "      <td>-0.184668</td>\n",
       "      <td>-1.201369</td>\n",
       "      <td>-0.121970</td>\n",
       "      <td>-0.043875</td>\n",
       "      <td>-0.113002</td>\n",
       "      <td>...</td>\n",
       "      <td>0.947382</td>\n",
       "      <td>0.673103</td>\n",
       "      <td>-0.979074</td>\n",
       "      <td>-0.978556</td>\n",
       "      <td>0.018279</td>\n",
       "      <td>-0.087490</td>\n",
       "      <td>-0.131155</td>\n",
       "      <td>-0.097524</td>\n",
       "      <td>-0.120613</td>\n",
       "      <td>-0.119792</td>\n",
       "    </tr>\n",
       "    <tr>\n",
       "      <th>2</th>\n",
       "      <td>232022460</td>\n",
       "      <td>-1</td>\n",
       "      <td>232022460</td>\n",
       "      <td>1</td>\n",
       "      <td>-0.172107</td>\n",
       "      <td>-0.184668</td>\n",
       "      <td>-1.201369</td>\n",
       "      <td>-0.121970</td>\n",
       "      <td>-0.043875</td>\n",
       "      <td>-0.113002</td>\n",
       "      <td>...</td>\n",
       "      <td>0.670883</td>\n",
       "      <td>0.439728</td>\n",
       "      <td>-0.979074</td>\n",
       "      <td>-0.978556</td>\n",
       "      <td>-0.098889</td>\n",
       "      <td>-0.106715</td>\n",
       "      <td>-0.131155</td>\n",
       "      <td>-0.183671</td>\n",
       "      <td>-0.120613</td>\n",
       "      <td>-0.119792</td>\n",
       "    </tr>\n",
       "    <tr>\n",
       "      <th>3</th>\n",
       "      <td>232438397</td>\n",
       "      <td>2</td>\n",
       "      <td>232438397</td>\n",
       "      <td>1</td>\n",
       "      <td>0.163054</td>\n",
       "      <td>1.963790</td>\n",
       "      <td>-0.646376</td>\n",
       "      <td>12.409294</td>\n",
       "      <td>-0.063725</td>\n",
       "      <td>9.782742</td>\n",
       "      <td>...</td>\n",
       "      <td>-0.577099</td>\n",
       "      <td>-0.613614</td>\n",
       "      <td>0.241128</td>\n",
       "      <td>0.241406</td>\n",
       "      <td>1.072793</td>\n",
       "      <td>0.085530</td>\n",
       "      <td>-0.131155</td>\n",
       "      <td>0.677799</td>\n",
       "      <td>-0.120613</td>\n",
       "      <td>-0.119792</td>\n",
       "    </tr>\n",
       "    <tr>\n",
       "      <th>4</th>\n",
       "      <td>230460314</td>\n",
       "      <td>-1</td>\n",
       "      <td>230460314</td>\n",
       "      <td>1</td>\n",
       "      <td>1.011523</td>\n",
       "      <td>-0.081127</td>\n",
       "      <td>-1.201369</td>\n",
       "      <td>1.153668</td>\n",
       "      <td>0.333276</td>\n",
       "      <td>1.312656</td>\n",
       "      <td>...</td>\n",
       "      <td>-0.511871</td>\n",
       "      <td>-0.400422</td>\n",
       "      <td>0.517257</td>\n",
       "      <td>0.579382</td>\n",
       "      <td>0.018279</td>\n",
       "      <td>0.277775</td>\n",
       "      <td>0.326394</td>\n",
       "      <td>1.293750</td>\n",
       "      <td>0.178136</td>\n",
       "      <td>0.179117</td>\n",
       "    </tr>\n",
       "  </tbody>\n",
       "</table>\n",
       "<p>5 rows × 169 columns</p>\n",
       "</div>"
      ],
      "text/plain": [
       "        txId  class          0  1         2         3         4          5  \\\n",
       "0  230425980     -1  230425980  1 -0.171469 -0.184668 -1.201369  -0.121970   \n",
       "1    5530458     -1    5530458  1 -0.171484 -0.184668 -1.201369  -0.121970   \n",
       "2  232022460     -1  232022460  1 -0.172107 -0.184668 -1.201369  -0.121970   \n",
       "3  232438397      2  232438397  1  0.163054  1.963790 -0.646376  12.409294   \n",
       "4  230460314     -1  230460314  1  1.011523 -0.081127 -1.201369   1.153668   \n",
       "\n",
       "          6         7  ...       157       158       159       160       161  \\\n",
       "0 -0.043875 -0.113002  ... -0.562153 -0.600999  1.461330  1.461369  0.018279   \n",
       "1 -0.043875 -0.113002  ...  0.947382  0.673103 -0.979074 -0.978556  0.018279   \n",
       "2 -0.043875 -0.113002  ...  0.670883  0.439728 -0.979074 -0.978556 -0.098889   \n",
       "3 -0.063725  9.782742  ... -0.577099 -0.613614  0.241128  0.241406  1.072793   \n",
       "4  0.333276  1.312656  ... -0.511871 -0.400422  0.517257  0.579382  0.018279   \n",
       "\n",
       "        162       163       164       165       166  \n",
       "0 -0.087490 -0.131155 -0.097524 -0.120613 -0.119792  \n",
       "1 -0.087490 -0.131155 -0.097524 -0.120613 -0.119792  \n",
       "2 -0.106715 -0.131155 -0.183671 -0.120613 -0.119792  \n",
       "3  0.085530 -0.131155  0.677799 -0.120613 -0.119792  \n",
       "4  0.277775  0.326394  1.293750  0.178136  0.179117  \n",
       "\n",
       "[5 rows x 169 columns]"
      ]
     },
     "execution_count": 8,
     "metadata": {},
     "output_type": "execute_result"
    }
   ],
   "source": [
    "df_merge.head()"
   ]
  },
  {
   "cell_type": "code",
   "execution_count": 9,
   "id": "tracked-swing",
   "metadata": {},
   "outputs": [],
   "source": [
    "df_ct = df_merge[[1,'class']]\n",
    "c0 = df_ct[df_ct['class']==-1]\n",
    "c1 = df_ct[df_ct['class']==1]\n",
    "c2 = df_ct[df_ct['class']==2]"
   ]
  },
  {
   "cell_type": "code",
   "execution_count": 54,
   "id": "difficult-paradise",
   "metadata": {},
   "outputs": [
    {
     "data": {
      "image/png": "[encoded data removed]",
      "text/plain": [
       "<Figure size 432x288 with 1 Axes>"
      ]
     },
     "metadata": {
      "needs_background": "light"
     },
     "output_type": "display_data"
    }
   ],
   "source": [
    "c0_count = c0.value_counts().sort_index(axis=0)\n",
    "c1_count = c1.value_counts().sort_index(axis=0)\n",
    "c2_count = c2.value_counts().sort_index(axis=0)\n",
    "\n",
    "plt.bar([i for i in range(1,50)], c0_count)\n",
    "plt.bar([i for i in range(1,50)], c2_count, bottom=c0_count)\n",
    "plt.bar([i for i in range(1,50)], c1_count, bottom=c0_count.to_numpy()+c2_count.to_numpy())\n",
    "plt.legend([\"Unknown\", \"Licit\", \"Illicit\"])\n",
    "plt.xlabel(\"Timestep\")\n",
    "plt.savefig(\"time_count.png\")"
   ]
  },
  {
   "cell_type": "code",
   "execution_count": 53,
   "id": "gross-script",
   "metadata": {},
   "outputs": [
    {
     "data": {
      "image/png": "[encoded data removed]",
      "text/plain": [
       "<Figure size 432x288 with 1 Axes>"
      ]
     },
     "metadata": {
      "needs_background": "light"
     },
     "output_type": "display_data"
    }
   ],
   "source": [
    "classes = df_classes['class'].value_counts()\n",
    "plt.bar(['Unknown', 'Licit', 'Illicit'],classes)\n",
    "plt.xlabel(\"Class\")\n",
    "plt.ylabel(\"Count\")\n",
    "# 0 = Unknown, 2 = Licit, 1 = Illicit\n",
    "plt.savefig(\"actual_class.png\")"
   ]
  },
  {
   "cell_type": "code",
   "execution_count": 12,
   "id": "unlikely-positive",
   "metadata": {},
   "outputs": [
    {
     "data": {
      "text/plain": [
       "3     232438397\n",
       "9     232029206\n",
       "10    232344069\n",
       "11     27553029\n",
       "16      3881097\n",
       "Name: txId, dtype: int64"
      ]
     },
     "execution_count": 12,
     "metadata": {},
     "output_type": "execute_result"
    }
   ],
   "source": [
    "# Separate unknown and known instances\n",
    "df_class_k = df_classes[df_classes['class'] != -1]\n",
    "df_class_k[\"txId\"].head()"
   ]
  },
  {
   "cell_type": "code",
   "execution_count": 13,
   "id": "mathematical-journalist",
   "metadata": {},
   "outputs": [],
   "source": [
    "# Retrieve features for only known instances\n",
    "df_features_new = df_features[0].isin(df_class_k[\"txId\"])"
   ]
  },
  {
   "cell_type": "code",
   "execution_count": 14,
   "id": "english-thumbnail",
   "metadata": {},
   "outputs": [],
   "source": [
    "df_features_new = df_features[df_features_new]"
   ]
  },
  {
   "cell_type": "markdown",
   "id": "saving-rachel",
   "metadata": {},
   "source": [
    "# Classifiers: SVM, Random Forest, and Adaboost"
   ]
  },
  {
   "cell_type": "code",
   "execution_count": 15,
   "id": "precious-visit",
   "metadata": {},
   "outputs": [],
   "source": [
    "# Train and test set of known instances\n",
    "train_df_c, test_df_c = train_test_split(df_class_k, test_size=0.2)\n"
   ]
  },
  {
   "cell_type": "code",
   "execution_count": 16,
   "id": "reduced-duncan",
   "metadata": {},
   "outputs": [],
   "source": [
    "f_bool = df_features[0].isin(train_df_c[\"txId\"])\n",
    "train_df_f = df_features[f_bool]\n",
    "\n",
    "f_bool = df_features[0].isin(test_df_c[\"txId\"])\n",
    "test_df_f = df_features[f_bool]"
   ]
  },
  {
   "cell_type": "code",
   "execution_count": 17,
   "id": "protective-obligation",
   "metadata": {},
   "outputs": [
    {
     "name": "stdout",
     "output_type": "stream",
     "text": [
      "(37251, 167)\n",
      "(37251, 2)\n",
      "(9313, 167)\n",
      "(9313, 2)\n"
     ]
    }
   ],
   "source": [
    "# Check the sizes align\n",
    "print(train_df_f.shape)\n",
    "print(train_df_c.shape)\n",
    "\n",
    "print(test_df_f.shape)\n",
    "print(test_df_c.shape)\n"
   ]
  },
  {
   "cell_type": "code",
   "execution_count": 18,
   "id": "ceramic-operator",
   "metadata": {},
   "outputs": [],
   "source": [
    "train_df_c_ind = train_df_c.set_index('txId')\n",
    "train_df_f_ind = train_df_f.set_index(0)"
   ]
  },
  {
   "cell_type": "code",
   "execution_count": 19,
   "id": "opposite-yugoslavia",
   "metadata": {},
   "outputs": [],
   "source": [
    "test_df_c_ind = test_df_c.set_index('txId')\n",
    "test_df_f_ind = test_df_f.set_index(0)"
   ]
  },
  {
   "cell_type": "code",
   "execution_count": 20,
   "id": "junior-sympathy",
   "metadata": {},
   "outputs": [],
   "source": [
    "# Joins to get classes and features aligned\n",
    "a1, a2 = train_df_f_ind.align(train_df_c_ind, join='left', axis=0)[:10]"
   ]
  },
  {
   "cell_type": "code",
   "execution_count": 21,
   "id": "concrete-mason",
   "metadata": {},
   "outputs": [],
   "source": [
    "a3, a4 = test_df_f_ind.align(test_df_c_ind, join='left', axis=0)"
   ]
  },
  {
   "cell_type": "code",
   "execution_count": 37,
   "id": "invisible-ground",
   "metadata": {},
   "outputs": [],
   "source": [
    "# Accuracy and F1 scores for performance metrics\n",
    "\n",
    "from sklearn.metrics import accuracy_score as accuracy\n",
    "from sklearn.metrics import f1_score\n",
    "\n",
    "acc = accuracy(y_pred, a4['class'].tolist())\n",
    "f1 = f1_score(a4['class'].tolist(), y_pred, average='weighted')"
   ]
  },
  {
   "cell_type": "code",
   "execution_count": 29,
   "id": "ranking-entity",
   "metadata": {},
   "outputs": [
    {
     "data": {
      "text/plain": [
       "SVC()"
      ]
     },
     "execution_count": 29,
     "metadata": {},
     "output_type": "execute_result"
    }
   ],
   "source": [
    "from sklearn import svm\n",
    "clf = svm.SVC()\n",
    "clf.fit(a1, a2['class'])"
   ]
  },
  {
   "cell_type": "code",
   "execution_count": 33,
   "id": "5f110a35-6d51-4caf-8c92-7e7f4837b935",
   "metadata": {},
   "outputs": [
    {
     "name": "stdout",
     "output_type": "stream",
     "text": [
      "SVM\n",
      "0.959304198432299\n",
      "0.9571906121272075\n"
     ]
    }
   ],
   "source": [
    "print(\"SVM\")\n",
    "print(acc)\n",
    "print(f1)"
   ]
  },
  {
   "cell_type": "code",
   "execution_count": 31,
   "id": "bc15f3ab-d76e-4555-b7bb-045cb39c56d2",
   "metadata": {},
   "outputs": [],
   "source": [
    "y_pred = clf.predict(a3)"
   ]
  },
  {
   "cell_type": "code",
   "execution_count": 40,
   "id": "finite-operation",
   "metadata": {},
   "outputs": [
    {
     "name": "stdout",
     "output_type": "stream",
     "text": [
      "8 0.9806721786749705\n"
     ]
    }
   ],
   "source": [
    "from sklearn.ensemble import RandomForestClassifier\n",
    "from sklearn.datasets import make_classification\n",
    "\n",
    "for i in range(8,9):\n",
    "    clf = RandomForestClassifier(max_depth=i, random_state=0)\n",
    "    clf.fit(a1, a2['class'])\n",
    "    y_pred = clf.predict(a3)\n",
    "    acc = accuracy(y_pred, a4['class'].tolist())\n",
    "    print(i, acc)"
   ]
  },
  {
   "cell_type": "code",
   "execution_count": 28,
   "id": "attended-nitrogen",
   "metadata": {},
   "outputs": [
    {
     "name": "stdout",
     "output_type": "stream",
     "text": [
      "Random Forest\n",
      "0.9623107484161925\n",
      "0.958512725968319\n"
     ]
    }
   ],
   "source": [
    "print(\"Random Forest\")\n",
    "print(acc)\n",
    "print(f1)"
   ]
  },
  {
   "cell_type": "code",
   "execution_count": 36,
   "id": "decent-rebecca",
   "metadata": {},
   "outputs": [
    {
     "data": {
      "text/plain": [
       "AdaBoostClassifier(random_state=0)"
      ]
     },
     "execution_count": 36,
     "metadata": {},
     "output_type": "execute_result"
    }
   ],
   "source": [
    "from sklearn.ensemble import AdaBoostClassifier\n",
    "clf = AdaBoostClassifier(n_estimators=50, random_state=0)\n",
    "clf.fit(a1, a2['class'])"
   ]
  },
  {
   "cell_type": "code",
   "execution_count": 38,
   "id": "still-disaster",
   "metadata": {},
   "outputs": [
    {
     "name": "stdout",
     "output_type": "stream",
     "text": [
      "Adaboost\n",
      "0.9873295393535918\n",
      "0.9869632999468915\n"
     ]
    }
   ],
   "source": [
    "print(\"Adaboost\")\n",
    "print(acc)\n",
    "print(f1)"
   ]
  },
  {
   "cell_type": "code",
   "execution_count": 26,
   "id": "liberal-complaint",
   "metadata": {},
   "outputs": [],
   "source": [
    "y_pred = clf.predict(a3)"
   ]
  },
  {
   "cell_type": "code",
   "execution_count": 43,
   "id": "noticed-windows",
   "metadata": {},
   "outputs": [],
   "source": [
    "pred_df_c = df_classes.dropna()\n",
    "pred_df_c = pred_df_c[pred_df_c['class'] == -1]\n",
    "pred_df_f_bool = df_features[0].isin(pred_df_c[\"txId\"])\n",
    "pred_df_f = df_features[pred_df_f_bool]\n",
    "pred_df_f = pred_df_f.set_index(0)\n"
   ]
  },
  {
   "cell_type": "code",
   "execution_count": 44,
   "id": "previous-township",
   "metadata": {},
   "outputs": [],
   "source": [
    "# Apply classifier model to unlabelled data\n",
    "\n",
    "unknown_pred = clf.predict(pred_df_f)"
   ]
  },
  {
   "cell_type": "code",
   "execution_count": 48,
   "id": "interpreted-plant",
   "metadata": {},
   "outputs": [],
   "source": [
    "ones = np.count_nonzero(unknown_pred == 1)\n",
    "twos = np.count_nonzero(unknown_pred == 2)"
   ]
  },
  {
   "cell_type": "code",
   "execution_count": 52,
   "id": "5c49421d-5c94-4e76-9df7-bc4ecd1d5193",
   "metadata": {},
   "outputs": [
    {
     "data": {
      "image/png": "[encoded data removed]",
      "text/plain": [
       "<Figure size 432x288 with 1 Axes>"
      ]
     },
     "metadata": {
      "needs_background": "light"
     },
     "output_type": "display_data"
    }
   ],
   "source": [
    "plt.bar([\"Licit\", \"Illicit\"], [ones, twos])\n",
    "plt.ylabel(\"Counts\")\n",
    "plt.xlabel(\"Class\")\n",
    "plt.savefig(\"predicted_class.png\")"
   ]
  },
  {
   "cell_type": "markdown",
   "id": "thousand-disposition",
   "metadata": {},
   "source": [
    "# Graphs and Deepwalk"
   ]
  },
  {
   "cell_type": "code",
   "execution_count": 83,
   "id": "abroad-fabric",
   "metadata": {},
   "outputs": [],
   "source": [
    "import networkx as nx\n",
    "import deepwalk\n",
    "\n",
    "# Create graph using edge list and networkx\n",
    "\n",
    "G = nx.Graph()\n",
    "G = nx.from_pandas_edgelist(df_edges, 'txId1', 'txId2')\n"
   ]
  },
  {
   "cell_type": "code",
   "execution_count": 81,
   "id": "chronic-singing",
   "metadata": {},
   "outputs": [
    {
     "data": {
      "text/html": [
       "<div>\n",
       "<style scoped>\n",
       "    .dataframe tbody tr th:only-of-type {\n",
       "        vertical-align: middle;\n",
       "    }\n",
       "\n",
       "    .dataframe tbody tr th {\n",
       "        vertical-align: top;\n",
       "    }\n",
       "\n",
       "    .dataframe thead th {\n",
       "        text-align: right;\n",
       "    }\n",
       "</style>\n",
       "<table border=\"1\" class=\"dataframe\">\n",
       "  <thead>\n",
       "    <tr style=\"text-align: right;\">\n",
       "      <th></th>\n",
       "      <th>txId1</th>\n",
       "      <th>txId2</th>\n",
       "    </tr>\n",
       "  </thead>\n",
       "  <tbody>\n",
       "    <tr>\n",
       "      <th>0</th>\n",
       "      <td>0</td>\n",
       "      <td>1</td>\n",
       "    </tr>\n",
       "    <tr>\n",
       "      <th>1</th>\n",
       "      <td>2</td>\n",
       "      <td>3</td>\n",
       "    </tr>\n",
       "    <tr>\n",
       "      <th>2</th>\n",
       "      <td>4</td>\n",
       "      <td>5</td>\n",
       "    </tr>\n",
       "    <tr>\n",
       "      <th>3</th>\n",
       "      <td>6</td>\n",
       "      <td>7</td>\n",
       "    </tr>\n",
       "    <tr>\n",
       "      <th>4</th>\n",
       "      <td>8</td>\n",
       "      <td>9</td>\n",
       "    </tr>\n",
       "    <tr>\n",
       "      <th>...</th>\n",
       "      <td>...</td>\n",
       "      <td>...</td>\n",
       "    </tr>\n",
       "    <tr>\n",
       "      <th>234350</th>\n",
       "      <td>203602</td>\n",
       "      <td>201430</td>\n",
       "    </tr>\n",
       "    <tr>\n",
       "      <th>234351</th>\n",
       "      <td>203603</td>\n",
       "      <td>203099</td>\n",
       "    </tr>\n",
       "    <tr>\n",
       "      <th>234352</th>\n",
       "      <td>201921</td>\n",
       "      <td>202042</td>\n",
       "    </tr>\n",
       "    <tr>\n",
       "      <th>234353</th>\n",
       "      <td>201480</td>\n",
       "      <td>201368</td>\n",
       "    </tr>\n",
       "    <tr>\n",
       "      <th>234354</th>\n",
       "      <td>201954</td>\n",
       "      <td>201756</td>\n",
       "    </tr>\n",
       "  </tbody>\n",
       "</table>\n",
       "<p>234355 rows × 2 columns</p>\n",
       "</div>"
      ],
      "text/plain": [
       "         txId1   txId2\n",
       "0            0       1\n",
       "1            2       3\n",
       "2            4       5\n",
       "3            6       7\n",
       "4            8       9\n",
       "...        ...     ...\n",
       "234350  203602  201430\n",
       "234351  203603  203099\n",
       "234352  201921  202042\n",
       "234353  201480  201368\n",
       "234354  201954  201756\n",
       "\n",
       "[234355 rows x 2 columns]"
      ]
     },
     "execution_count": 81,
     "metadata": {},
     "output_type": "execute_result"
    }
   ],
   "source": [
    "df_edges"
   ]
  },
  {
   "cell_type": "code",
   "execution_count": 8,
   "id": "unnecessary-custom",
   "metadata": {},
   "outputs": [
    {
     "data": {
      "text/plain": [
       "(234355, 2)"
      ]
     },
     "execution_count": 8,
     "metadata": {},
     "output_type": "execute_result"
    }
   ],
   "source": [
    "df_edges.shape"
   ]
  },
  {
   "cell_type": "code",
   "execution_count": 9,
   "id": "available-offering",
   "metadata": {},
   "outputs": [],
   "source": [
    "# Save graph for use in deepwalk\n",
    "\n",
    "nx.write_edgelist(G, 'elliptic_bitcoin_dataset/edge_list.edge')"
   ]
  },
  {
   "cell_type": "code",
   "execution_count": 1,
   "id": "brilliant-court",
   "metadata": {},
   "outputs": [
    {
     "name": "stdout",
     "output_type": "stream",
     "text": [
      "Number of nodes: 203769\n",
      "Number of walks: 2037690\n",
      "Data size (walks*length): 30565350\n",
      "Walking...\n",
      "Training...\n"
     ]
    }
   ],
   "source": [
    "# Deepwalk (using small num walks and walk length due to excessive time on large graph)\n",
    "\n",
    "!deepwalk --format edgelist --input elliptic_bitcoin_dataset/edge_list.edge --number-walks 10 --representation-size 64 --walk-length 15 --window-size 6 --output edges.embeddings"
   ]
  },
  {
   "cell_type": "code",
   "execution_count": null,
   "id": "broad-meeting",
   "metadata": {},
   "outputs": [],
   "source": [
    "nx.draw(G)"
   ]
  },
  {
   "cell_type": "code",
   "execution_count": 4,
   "id": "competitive-cartoon",
   "metadata": {},
   "outputs": [],
   "source": [
    "# Load deepwalk embeddings\n",
    "\n",
    "embed = np.loadtxt('elliptic_bitcoin_dataset/edges.embedding', skiprows = 1)"
   ]
  },
  {
   "cell_type": "code",
   "execution_count": 8,
   "id": "recreational-pierce",
   "metadata": {},
   "outputs": [
    {
     "data": {
      "text/plain": [
       "(203769, 2)"
      ]
     },
     "execution_count": 8,
     "metadata": {},
     "output_type": "execute_result"
    }
   ],
   "source": [
    "df_classes.shape"
   ]
  },
  {
   "cell_type": "code",
   "execution_count": 28,
   "id": "interstate-aircraft",
   "metadata": {},
   "outputs": [],
   "source": [
    "from karateclub import DeepWalk"
   ]
  },
  {
   "cell_type": "code",
   "execution_count": 84,
   "id": "systematic-enclosure",
   "metadata": {},
   "outputs": [],
   "source": [
    "model = DeepWalk(walk_number=2, walk_length=20, dimensions=32, workers=4)\n",
    "model.fit(G)\n",
    "embeddings = model.get_embedding()"
   ]
  },
  {
   "cell_type": "code",
   "execution_count": 85,
   "id": "molecular-sixth",
   "metadata": {},
   "outputs": [
    {
     "data": {
      "text/plain": [
       "(203769, 32)"
      ]
     },
     "execution_count": 85,
     "metadata": {},
     "output_type": "execute_result"
    }
   ],
   "source": [
    "embeddings.shape"
   ]
  },
  {
   "cell_type": "code",
   "execution_count": 50,
   "id": "municipal-chapel",
   "metadata": {},
   "outputs": [
    {
     "data": {
      "text/html": [
       "<div>\n",
       "<style scoped>\n",
       "    .dataframe tbody tr th:only-of-type {\n",
       "        vertical-align: middle;\n",
       "    }\n",
       "\n",
       "    .dataframe tbody tr th {\n",
       "        vertical-align: top;\n",
       "    }\n",
       "\n",
       "    .dataframe thead th {\n",
       "        text-align: right;\n",
       "    }\n",
       "</style>\n",
       "<table border=\"1\" class=\"dataframe\">\n",
       "  <thead>\n",
       "    <tr style=\"text-align: right;\">\n",
       "      <th></th>\n",
       "      <th>txId1</th>\n",
       "      <th>txId2</th>\n",
       "      <th>txId</th>\n",
       "      <th>class</th>\n",
       "    </tr>\n",
       "  </thead>\n",
       "  <tbody>\n",
       "    <tr>\n",
       "      <th>0</th>\n",
       "      <td>230425980</td>\n",
       "      <td>5530458</td>\n",
       "      <td>NaN</td>\n",
       "      <td>NaN</td>\n",
       "    </tr>\n",
       "    <tr>\n",
       "      <th>1</th>\n",
       "      <td>232022460</td>\n",
       "      <td>232438397</td>\n",
       "      <td>NaN</td>\n",
       "      <td>NaN</td>\n",
       "    </tr>\n",
       "    <tr>\n",
       "      <th>2</th>\n",
       "      <td>230460314</td>\n",
       "      <td>230459870</td>\n",
       "      <td>NaN</td>\n",
       "      <td>NaN</td>\n",
       "    </tr>\n",
       "    <tr>\n",
       "      <th>3</th>\n",
       "      <td>230333930</td>\n",
       "      <td>230595899</td>\n",
       "      <td>NaN</td>\n",
       "      <td>NaN</td>\n",
       "    </tr>\n",
       "    <tr>\n",
       "      <th>4</th>\n",
       "      <td>232013274</td>\n",
       "      <td>232029206</td>\n",
       "      <td>NaN</td>\n",
       "      <td>NaN</td>\n",
       "    </tr>\n",
       "    <tr>\n",
       "      <th>...</th>\n",
       "      <td>...</td>\n",
       "      <td>...</td>\n",
       "      <td>...</td>\n",
       "      <td>...</td>\n",
       "    </tr>\n",
       "    <tr>\n",
       "      <th>234350</th>\n",
       "      <td>158365409</td>\n",
       "      <td>157930723</td>\n",
       "      <td>NaN</td>\n",
       "      <td>NaN</td>\n",
       "    </tr>\n",
       "    <tr>\n",
       "      <th>234351</th>\n",
       "      <td>188708874</td>\n",
       "      <td>188708879</td>\n",
       "      <td>NaN</td>\n",
       "      <td>NaN</td>\n",
       "    </tr>\n",
       "    <tr>\n",
       "      <th>234352</th>\n",
       "      <td>157659064</td>\n",
       "      <td>157659046</td>\n",
       "      <td>NaN</td>\n",
       "      <td>NaN</td>\n",
       "    </tr>\n",
       "    <tr>\n",
       "      <th>234353</th>\n",
       "      <td>87414554</td>\n",
       "      <td>106877725</td>\n",
       "      <td>NaN</td>\n",
       "      <td>NaN</td>\n",
       "    </tr>\n",
       "    <tr>\n",
       "      <th>234354</th>\n",
       "      <td>158589452</td>\n",
       "      <td>158589457</td>\n",
       "      <td>NaN</td>\n",
       "      <td>NaN</td>\n",
       "    </tr>\n",
       "  </tbody>\n",
       "</table>\n",
       "<p>234355 rows × 4 columns</p>\n",
       "</div>"
      ],
      "text/plain": [
       "            txId1      txId2  txId class\n",
       "0       230425980    5530458   NaN   NaN\n",
       "1       232022460  232438397   NaN   NaN\n",
       "2       230460314  230459870   NaN   NaN\n",
       "3       230333930  230595899   NaN   NaN\n",
       "4       232013274  232029206   NaN   NaN\n",
       "...           ...        ...   ...   ...\n",
       "234350  158365409  157930723   NaN   NaN\n",
       "234351  188708874  188708879   NaN   NaN\n",
       "234352  157659064  157659046   NaN   NaN\n",
       "234353   87414554  106877725   NaN   NaN\n",
       "234354  158589452  158589457   NaN   NaN\n",
       "\n",
       "[234355 rows x 4 columns]"
      ]
     },
     "execution_count": 50,
     "metadata": {},
     "output_type": "execute_result"
    }
   ],
   "source": [
    "df_c = df_classes.copy(deep=True)\n",
    "df_edges.join(df_c, on=\"txId1\")"
   ]
  },
  {
   "cell_type": "code",
   "execution_count": 61,
   "id": "legendary-building",
   "metadata": {
    "scrolled": true
   },
   "outputs": [],
   "source": [
    "keys = df_c.to_dict()['txId']\n",
    "res = dict((v,k) for k,v in keys.items())"
   ]
  },
  {
   "cell_type": "code",
   "execution_count": 66,
   "id": "worse-springfield",
   "metadata": {},
   "outputs": [],
   "source": [
    "df_edges['txId1'] = df_edges['txId1'].apply(lambda x: res[x])\n",
    "df_edges['txId2'] = df_edges['txId2'].apply(lambda x: res[x])\n"
   ]
  },
  {
   "cell_type": "code",
   "execution_count": null,
   "id": "proud-genre",
   "metadata": {},
   "outputs": [],
   "source": [
    "dfc = df_classes['class'].values.astype(int)"
   ]
  },
  {
   "cell_type": "code",
   "execution_count": null,
   "id": "agreed-cleaners",
   "metadata": {},
   "outputs": [],
   "source": [
    "from sklearn.semi_supervised import LabelSpreading\n",
    "\n",
    "model = LabelSpreading()\n",
    "model.fit(embeddings, dfc)"
   ]
  },
  {
   "cell_type": "code",
   "execution_count": null,
   "id": "wrapped-mercury",
   "metadata": {},
   "outputs": [],
   "source": []
  }
 ],
 "metadata": {
  "kernelspec": {
   "display_name": "Python 3 (ipykernel)",
   "language": "python",
   "name": "python3"
  },
  "language_info": {
   "codemirror_mode": {
    "name": "ipython",
    "version": 3
   },
   "file_extension": ".py",
   "mimetype": "text/x-python",
   "name": "python",
   "nbconvert_exporter": "python",
   "pygments_lexer": "ipython3",
   "version": "3.8.5"
  }
 },
 "nbformat": 4,
 "nbformat_minor": 5
}
